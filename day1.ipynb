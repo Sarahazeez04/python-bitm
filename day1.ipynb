{
 "cells": [
  {
   "cell_type": "code",
   "execution_count": 1,
   "id": "66e901f8-4a26-4012-b339-2ffd3dc75d56",
   "metadata": {},
   "outputs": [
    {
     "name": "stdout",
     "output_type": "stream",
     "text": [
      "hello\n"
     ]
    }
   ],
   "source": [
    "print(\"hello\")"
   ]
  },
  {
   "cell_type": "code",
   "execution_count": 2,
   "id": "17b6b112-0bcd-46ce-8ddb-42dce38e27a3",
   "metadata": {},
   "outputs": [
    {
     "name": "stdout",
     "output_type": "stream",
     "text": [
      "hi\n"
     ]
    }
   ],
   "source": [
    "print(\"hi\")"
   ]
  },
  {
   "cell_type": "code",
   "execution_count": 9,
   "id": "994c1453-b944-4b2c-99d1-7e3def05559b",
   "metadata": {},
   "outputs": [
    {
     "name": "stdout",
     "output_type": "stream",
     "text": [
      "5\n",
      "<class 'int'>\n",
      "12.8\n",
      "<class 'float'>\n",
      "b\n",
      "<class 'str'>\n",
      "[3, 5, 6]\n",
      "<class 'list'>\n",
      "(5, 9, 8)\n",
      "<class 'tuple'>\n",
      "range(0, 10)\n",
      "<class 'range'>\n",
      "{1: 'asjcenc', 2: '34'}\n",
      "<class 'dict'>\n"
     ]
    }
   ],
   "source": [
    "a=5\n",
    "print(a)\n",
    "print(type(a))\n",
    "\n",
    "a=12.8\n",
    "print(a)\n",
    "print(type(a))\n",
    "\n",
    "\n",
    "a='b'\n",
    "print(a)\n",
    "print(type(a))\n",
    "\n",
    "a=[3,5,6]\n",
    "print(a)\n",
    "print(type(a))\n",
    "\n",
    "a=(5,9,8)\n",
    "print(a)\n",
    "print(type(a))\n",
    "\n",
    "a=(range(0,10))\n",
    "print(a)\n",
    "print(type(a))\n",
    "\n",
    "a={1:\"asjcenc\",2:\"34\"}\n",
    "print(a)\n",
    "print(type(a))"
   ]
  },
  {
   "cell_type": "code",
   "execution_count": 17,
   "id": "80cdd317-bffc-4e72-b1f8-e765fe181664",
   "metadata": {},
   "outputs": [
    {
     "name": "stdin",
     "output_type": "stream",
     "text": [
      " 5\n",
      " 6\n"
     ]
    },
    {
     "name": "stdout",
     "output_type": "stream",
     "text": [
      "5\n",
      "6\n",
      "11\n"
     ]
    },
    {
     "data": {
      "text/plain": [
       "int"
      ]
     },
     "execution_count": 17,
     "metadata": {},
     "output_type": "execute_result"
    }
   ],
   "source": [
    "a =int(input())\n",
    "b=int(input())\n",
    "print(a)\n",
    "print(b)\n",
    "c=a+b\n",
    "print(c)\n",
    "type(c)\n"
   ]
  },
  {
   "cell_type": "code",
   "execution_count": 34,
   "id": "efeae521-ec07-4fb2-bc0b-40faf8e804c0",
   "metadata": {},
   "outputs": [
    {
     "name": "stdin",
     "output_type": "stream",
     "text": [
      " 3 4 5\n"
     ]
    },
    {
     "name": "stdout",
     "output_type": "stream",
     "text": [
      "3\n",
      "12\n"
     ]
    }
   ],
   "source": [
    "a,b,c=((input().split()))\n",
    "print(a)\n",
    "d=(int(a)+int(b)+int(c))\n",
    "print(int(d))\n"
   ]
  },
  {
   "cell_type": "code",
   "execution_count": 39,
   "id": "81cd9c04-5fd5-42eb-9d1e-250a8ec18e4c",
   "metadata": {},
   "outputs": [
    {
     "name": "stdin",
     "output_type": "stream",
     "text": [
      " 335\n"
     ]
    },
    {
     "name": "stdout",
     "output_type": "stream",
     "text": [
      "-5\n"
     ]
    }
   ],
   "source": [
    "a,b,c=((input()))\n",
    "d=(int(a)-int(b)-int(c))\n",
    "print(int(d))"
   ]
  },
  {
   "cell_type": "code",
   "execution_count": 40,
   "id": "04e8e5e1-5965-4b56-a812-6e4fa5b82151",
   "metadata": {},
   "outputs": [
    {
     "name": "stdin",
     "output_type": "stream",
     "text": [
      " 3 5\n"
     ]
    },
    {
     "name": "stdout",
     "output_type": "stream",
     "text": [
      "8 2 15 0.6\n"
     ]
    }
   ],
   "source": [
    "a,b=(input().split())\n",
    "add=int(a)+int(b)\n",
    "sub=int(b)-int(a)\n",
    "product=int(a)*int(b)\n",
    "quotient=int(a)/int(b)\n",
    "print(add,sub,product,quotient)"
   ]
  },
  {
   "cell_type": "code",
   "execution_count": 52,
   "id": "e93c6d51-e35c-480b-a06a-d13533e46597",
   "metadata": {},
   "outputs": [
    {
     "name": "stdin",
     "output_type": "stream",
     "text": [
      "enter name: sarah\n",
      "enter age:  20\n"
     ]
    },
    {
     "name": "stdout",
     "output_type": "stream",
     "text": [
      " eligible\n"
     ]
    }
   ],
   "source": [
    "\n",
    "name=(input(\"enter name:\"))\n",
    "age=int(input(\"enter age: \"))\n",
    "if age<18:\n",
    "    print(\"not eligible\")\n",
    "else:\n",
    "    print(\" eligible\");"
   ]
  },
  {
   "cell_type": "code",
   "execution_count": 56,
   "id": "4bc9dbbb-a40c-40b2-a4bf-d1ff1632d541",
   "metadata": {},
   "outputs": [
    {
     "name": "stdin",
     "output_type": "stream",
     "text": [
      " 3\n",
      " 4\n"
     ]
    },
    {
     "name": "stdout",
     "output_type": "stream",
     "text": [
      "4 is bigger\n"
     ]
    }
   ],
   "source": [
    "a=int(input())\n",
    "b=int(input())\n",
    "if(a>b):\n",
    "    print(a,\"is bigger\")\n",
    "else:\n",
    "    print(b,\"is bigger\")"
   ]
  },
  {
   "cell_type": "code",
   "execution_count": 68,
   "id": "dd296a47-ccef-437a-8c8d-17dc26fcc231",
   "metadata": {},
   "outputs": [
    {
     "name": "stdin",
     "output_type": "stream",
     "text": [
      " 5\n",
      " 5\n",
      " 5\n"
     ]
    },
    {
     "name": "stdout",
     "output_type": "stream",
     "text": [
      "5 is bigger\n"
     ]
    }
   ],
   "source": [
    "a=int(input())\n",
    "b=int(input())\n",
    "c=int(input())\n",
    "if a>b & a>c:\n",
    "    print(a,\"is bigger\")\n",
    "elif a>b & a<c:\n",
    "    print(c,\"is bigger\")\n",
    "else:\n",
    "    print(b,\"is bigger\")"
   ]
  },
  {
   "cell_type": "code",
   "execution_count": 88,
   "id": "cd9082f5-f25e-47e0-bc84-32eab81aee31",
   "metadata": {},
   "outputs": [
    {
     "name": "stdin",
     "output_type": "stream",
     "text": [
      " 100\n"
     ]
    },
    {
     "name": "stdout",
     "output_type": "stream",
     "text": [
      "grade isA+\n"
     ]
    }
   ],
   "source": [
    "marks=int(input())\n",
    "if marks>=90 and marks<=100:\n",
    "    print(\"grade isA+\")\n",
    "elif marks>=80 and marks<90:\n",
    "    print(\"grade is A\")\n",
    "elif marks>=70 and marks<80:\n",
    "        print(\"grade is B+\")\n",
    "elif marks>=60 and marks<70:\n",
    "        print(\"grade is B\")\n",
    "elif marks>=50 and marks<60:\n",
    "        print(\"grade is c+\")\n",
    "elif marks>=40 and marks<50:\n",
    "        print(\"grade is d\")\n",
    "elif marks>=30 and marks<40:\n",
    "        print(\"grade is e\")\n",
    "elif marks<30:\n",
    "        print(\"grade is f\")\n",
    "else:\n",
    "    print(\"invalid\")"
   ]
  },
  {
   "cell_type": "code",
   "execution_count": null,
   "id": "d931b6f3-7879-4e5d-b2a9-117c314c2a44",
   "metadata": {},
   "outputs": [],
   "source": [
    "age=int(input())"
   ]
  },
  {
   "cell_type": "code",
   "execution_count": 101,
   "id": "468e7564-b0a1-41f1-b419-915d8256205a",
   "metadata": {},
   "outputs": [
    {
     "ename": "TypeError",
     "evalue": "can only concatenate str (not \"int\") to str",
     "output_type": "error",
     "traceback": [
      "\u001b[1;31m---------------------------------------------------------------------------\u001b[0m",
      "\u001b[1;31mTypeError\u001b[0m                                 Traceback (most recent call last)",
      "Cell \u001b[1;32mIn[101], line 2\u001b[0m\n\u001b[0;32m      1\u001b[0m x\u001b[38;5;241m=\u001b[39m\u001b[38;5;124m'\u001b[39m\u001b[38;5;124m*\u001b[39m\u001b[38;5;124m'\u001b[39m\n\u001b[1;32m----> 2\u001b[0m \u001b[38;5;28;01mfor\u001b[39;00m i \u001b[38;5;129;01min\u001b[39;00m \u001b[38;5;28mrange\u001b[39m(i,\u001b[43mi\u001b[49m\u001b[38;5;241;43m+\u001b[39;49m\u001b[38;5;241;43m1\u001b[39;49m):\n\u001b[0;32m      3\u001b[0m     \u001b[38;5;28mprint\u001b[39m(i)\n",
      "\u001b[1;31mTypeError\u001b[0m: can only concatenate str (not \"int\") to str"
     ]
    }
   ],
   "source": [
    "x='*'\n",
    "for i in range(i,i+1):\n",
    "    print(i)\n",
    "    "
   ]
  },
  {
   "cell_type": "code",
   "execution_count": null,
   "id": "05080491-ecb6-4dc1-8492-200714c20952",
   "metadata": {},
   "outputs": [],
   "source": [
    "fib(i)=fib(i-1)+fib(i-2)"
   ]
  },
  {
   "cell_type": "code",
   "execution_count": 105,
   "id": "994e9e72-6223-4557-a502-f4590cccc617",
   "metadata": {},
   "outputs": [],
   "source": [
    "x=0\n",
    "for x in range(x,x-1):\n",
    "    for y in range(x,x-2):\n",
    "        print(x)\n",
    "    "
   ]
  },
  {
   "cell_type": "code",
   "execution_count": 118,
   "id": "a5c3951a-5aae-4d74-8610-6489b94d463a",
   "metadata": {},
   "outputs": [
    {
     "name": "stdout",
     "output_type": "stream",
     "text": [
      "1\n",
      "2\n",
      "3\n",
      "5\n",
      "8\n",
      "13\n",
      "21\n",
      "34\n"
     ]
    }
   ],
   "source": [
    "n=10\n",
    "num1=0\n",
    "num2=1\n",
    "temp=num2\n",
    "for x in range(0,n-2):\n",
    "    temp=num1+num2\n",
    "    num1=num2\n",
    "    num2=temp\n",
    "    print(temp)"
   ]
  },
  {
   "cell_type": "code",
   "execution_count": null,
   "id": "5f8a5640-bee5-4abc-b334-5614af8a34cc",
   "metadata": {},
   "outputs": [],
   "source": []
  }
 ],
 "metadata": {
  "kernelspec": {
   "display_name": "Python 3 (ipykernel)",
   "language": "python",
   "name": "python3"
  },
  "language_info": {
   "codemirror_mode": {
    "name": "ipython",
    "version": 3
   },
   "file_extension": ".py",
   "mimetype": "text/x-python",
   "name": "python",
   "nbconvert_exporter": "python",
   "pygments_lexer": "ipython3",
   "version": "3.12.2"
  }
 },
 "nbformat": 4,
 "nbformat_minor": 5
}
