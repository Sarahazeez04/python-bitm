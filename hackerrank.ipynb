{
 "cells": [
  {
   "cell_type": "code",
   "execution_count": 1,
   "id": "4b236eba-648c-4007-9d05-bfcb44138e76",
   "metadata": {},
   "outputs": [
    {
     "name": "stdin",
     "output_type": "stream",
     "text": [
      " 5\n",
      " 5\n"
     ]
    },
    {
     "name": "stdout",
     "output_type": "stream",
     "text": [
      "10\n",
      "0\n",
      "25\n"
     ]
    }
   ],
   "source": [
    "# Task\n",
    "# The provided code stub reads two integers from STDIN,  and . Add code to print three lines where:\n",
    "\n",
    "# The first line contains the sum of the two numbers.\n",
    "# The second line contains the difference of the two numbers (first - second).\n",
    "# The third line contains the product of the two numbers.\n",
    "# Example\n",
    "# a=3\n",
    "# b=5\n",
    "# Print the following:\n",
    "# 8\n",
    "# -2\n",
    "# 15\n",
    "if __name__ == '__main__':\n",
    "    a = int(input())\n",
    "    b = int(input())\n",
    "    print(a+b)\n",
    "    print(a-b)\n",
    "    print(a*b)\n"
   ]
  },
  {
   "cell_type": "code",
   "execution_count": 2,
   "id": "7842e437-d46b-4ad3-a10e-378c62357b71",
   "metadata": {},
   "outputs": [
    {
     "name": "stdin",
     "output_type": "stream",
     "text": [
      " 5\n",
      " 5\n"
     ]
    },
    {
     "name": "stdout",
     "output_type": "stream",
     "text": [
      "1\n",
      "1.0\n"
     ]
    }
   ],
   "source": [
    "# Task\n",
    "# The provided code stub reads two integers,  and , from STDIN.\n",
    "\n",
    "# Add logic to print two lines. The first line should contain the result of integer division,  // . The second line should contain the result of float division,  / .\n",
    "\n",
    "# No rounding or formatting is necessary.\n",
    "\n",
    "# Example\n",
    "# a=3\n",
    "# b=5\n",
    "# The result of the integer division 3//5=0.\n",
    "# The result of the float division is 0.6.\n",
    "# Print:\n",
    "# 0\n",
    "# 0.6\n",
    "if __name__ == '__main__':\n",
    "    a = int(input())\n",
    "    b = int(input())\n",
    "    c=int(a/b)\n",
    "    d=float(a/b)\n",
    "    print(c)\n",
    "    print(d)"
   ]
  },
  {
   "cell_type": "code",
   "execution_count": 3,
   "id": "bd9fe470-1450-48a8-87ec-b07fdaaec0a6",
   "metadata": {},
   "outputs": [
    {
     "name": "stdin",
     "output_type": "stream",
     "text": [
      " 5\n"
     ]
    },
    {
     "name": "stdout",
     "output_type": "stream",
     "text": [
      "0\n",
      "1\n",
      "4\n",
      "9\n",
      "16\n"
     ]
    }
   ],
   "source": [
    "# Task\n",
    "# The provided code stub reads and integer, , from STDIN. For all non-negative integers i<n,print i^2 \n",
    "# Example\n",
    "# n=3\n",
    "# The list of non-negative integers that are less than n=3 is [0,1,2].Print the square of each number on a separate line.\n",
    "# 0\n",
    "# 1\n",
    "# 4\n",
    "if __name__ == '__main__':\n",
    "    n = int(input())\n",
    "    for i in range(0,n):\n",
    "        print(i**2)"
   ]
  },
  {
   "cell_type": "code",
   "execution_count": null,
   "id": "03f4b20a-0911-460f-947a-fdf888ae7055",
   "metadata": {},
   "outputs": [],
   "source": []
  }
 ],
 "metadata": {
  "kernelspec": {
   "display_name": "Python 3 (ipykernel)",
   "language": "python",
   "name": "python3"
  },
  "language_info": {
   "codemirror_mode": {
    "name": "ipython",
    "version": 3
   },
   "file_extension": ".py",
   "mimetype": "text/x-python",
   "name": "python",
   "nbconvert_exporter": "python",
   "pygments_lexer": "ipython3",
   "version": "3.12.2"
  }
 },
 "nbformat": 4,
 "nbformat_minor": 5
}
