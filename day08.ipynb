{
 "cells": [
  {
   "cell_type": "code",
   "execution_count": null,
   "id": "ed7f04a6-3f05-4485-8c52-35f09c079460",
   "metadata": {},
   "outputs": [],
   "source": [
    "s=input()\n",
    "x=y=z=0\n",
    "for i in s:\n",
    "    match(i):\n",
    "        case '(':x+=1\n",
    "        case ')':x-=1\n",
    "        case '[':y+=1\n",
    "        case ']':y-=1\n",
    "        case '{':z+=1\n",
    "        case '}':z-+1\n",
    "        case _:continue\n",
    "if x+y+z==0:\n",
    "    print(\"valid\")\n",
    "else:\n",
    "    print(\"invalid\")\n",
    "            \n",
    "            \n",
    "            "
   ]
  },
  {
   "cell_type": "code",
   "execution_count": 7,
   "id": "7035e9cf-3bc1-48cc-a83f-865ab51fdc8d",
   "metadata": {},
   "outputs": [
    {
     "name": "stdin",
     "output_type": "stream",
     "text": [
      " 23456\n",
      " 7\n"
     ]
    },
    {
     "name": "stdout",
     "output_type": "stream",
     "text": [
      "234567\n",
      "23456\n"
     ]
    }
   ],
   "source": [
    "stack=(input())\n",
    "e=input()\n",
    "s=e\n",
    "sent=stack+s\n",
    "print(sent)\n",
    "sent=sent[0:5]\n",
    "print(sent)\n"
   ]
  },
  {
   "cell_type": "code",
   "execution_count": 7,
   "id": "b1b75d39-98b1-469b-a678-075e9e576058",
   "metadata": {},
   "outputs": [
    {
     "name": "stdout",
     "output_type": "stream",
     "text": [
      "string\n",
      "a\n",
      "is\n",
      "this\n"
     ]
    }
   ],
   "source": [
    "str=\"this is a string\"\n",
    "s=[]\n",
    "for e in str.split():\n",
    "    s.append(e)\n",
    "    \n",
    "while len(s)>0:\n",
    "    print(s.pop())"
   ]
  },
  {
   "cell_type": "code",
   "execution_count": null,
   "id": "86e94e3b-5ba4-4474-805b-bba7e38ac091",
   "metadata": {},
   "outputs": [],
   "source": [
    "food=list(input().split())\n",
    "energy=0\n",
    "for i in range(0,len(food)-1):\n",
    "    if food[i]==food[i+1]:\n",
    "        energy-=1\n",
    "    else:\n",
    "        for j in range(i,len(food)-1):\n",
    "            energy+=1   \n",
    "        \n",
    "print(energy)\n",
    "    "
   ]
  }
 ],
 "metadata": {
  "kernelspec": {
   "display_name": "Python 3 (ipykernel)",
   "language": "python",
   "name": "python3"
  },
  "language_info": {
   "codemirror_mode": {
    "name": "ipython",
    "version": 3
   },
   "file_extension": ".py",
   "mimetype": "text/x-python",
   "name": "python",
   "nbconvert_exporter": "python",
   "pygments_lexer": "ipython3",
   "version": "3.12.2"
  }
 },
 "nbformat": 4,
 "nbformat_minor": 5
}
