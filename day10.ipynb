{
 "cells": [
  {
   "cell_type": "code",
   "execution_count": 2,
   "id": "6228483b-d55e-4de8-a5f8-43766e65789f",
   "metadata": {},
   "outputs": [
    {
     "name": "stdout",
     "output_type": "stream",
     "text": [
      "2\n",
      "4\n",
      "6\n",
      "8\n",
      "10\n",
      "12\n",
      "14\n",
      "16\n",
      "18\n",
      "20\n"
     ]
    }
   ],
   "source": [
    "for i in range(1,11):\n",
    "    x=i*2\n",
    "    print(x)"
   ]
  },
  {
   "cell_type": "code",
   "execution_count": 7,
   "id": "bdd37100-5021-4cd0-a1cf-9e02bb0a9483",
   "metadata": {},
   "outputs": [
    {
     "name": "stdout",
     "output_type": "stream",
     "text": [
      "0\n",
      "2\n",
      "4\n",
      "6\n",
      "8\n",
      "10\n",
      "12\n",
      "14\n",
      "16\n",
      "18\n",
      "20\n"
     ]
    }
   ],
   "source": [
    "for x in range(0,11):\n",
    "    def tab(x):\n",
    "        return 2*x\n",
    "    print(tab(x))"
   ]
  },
  {
   "cell_type": "code",
   "execution_count": null,
   "id": "84c04f92-35a4-4f79-81f2-a9f08be6ab43",
   "metadata": {},
   "outputs": [],
   "source": [
    "def tab(i):\n",
    "    if i ==11:\n",
    "        return\n",
    "    print(i*2)\n",
    "    i=i+1\n",
    "    tab(i)\n",
    "    return"
   ]
  },
  {
   "cell_type": "code",
   "execution_count": 4,
   "id": "f0ef0b21-0460-4635-aedc-240f60f1bc70",
   "metadata": {},
   "outputs": [
    {
     "name": "stdin",
     "output_type": "stream",
     "text": [
      " 5\n"
     ]
    },
    {
     "name": "stdout",
     "output_type": "stream",
     "text": [
      "120\n"
     ]
    }
   ],
   "source": [
    "n=int(input())\n",
    "fact=1\n",
    "for i in range(2,n+1):\n",
    "    fact=fact*i\n",
    "print(fact)"
   ]
  },
  {
   "cell_type": "code",
   "execution_count": 26,
   "id": "750629d8-c503-40ea-a4b5-f97fa20499b1",
   "metadata": {},
   "outputs": [
    {
     "name": "stdin",
     "output_type": "stream",
     "text": [
      " 3\n"
     ]
    },
    {
     "name": "stdout",
     "output_type": "stream",
     "text": [
      "Factorial of 3 is 6\n"
     ]
    }
   ],
   "source": [
    "def factorial(n):\n",
    "    if (n==1 or n==0):\n",
    "        return 1\n",
    "    else:\n",
    "        return n * factorial(n - 1) \n",
    "\n",
    "num =int(input())\n",
    "print(\"Factorial of\",num,\"is\",factorial(num))\n"
   ]
  },
  {
   "cell_type": "code",
   "execution_count": 27,
   "id": "da9de783-45f2-436b-bf61-2d098a8b8503",
   "metadata": {},
   "outputs": [
    {
     "name": "stdout",
     "output_type": "stream",
     "text": [
      "34\n"
     ]
    }
   ],
   "source": [
    "def Fibonacci(n):\n",
    "\tif n < 0:\n",
    "\t\tprint(\"Incorrect input\")\n",
    "\telif n == 0:\n",
    "\t\treturn 0\n",
    "\telif n == 1 or n == 2:\n",
    "\t\treturn 1\n",
    "\telse:\n",
    "\t\treturn Fibonacci(n-1) + Fibonacci(n-2)\n",
    "print(Fibonacci(9))\n",
    "\n"
   ]
  },
  {
   "cell_type": "code",
   "execution_count": 11,
   "id": "eee07d07-945f-4bef-bfd3-80de3beb2943",
   "metadata": {},
   "outputs": [
    {
     "name": "stdout",
     "output_type": "stream",
     "text": [
      "header  node None <__main__.node object at 0x0000025C99C8E810>\n",
      "node 1 <__main__.node object at 0x0000025C99C8E810> 1\n",
      "node 2 <__main__.node object at 0x0000025C99C8DF10> 2\n",
      "node 3 <__main__.node object at 0x0000025C99C8D820> 3\n",
      "node 4 <__main__.node object at 0x0000025C99C8CC50> 4\n"
     ]
    }
   ],
   "source": [
    "#linked list day 10\n",
    "def frinsert(value):\n",
    "    \n",
    "    class node:\n",
    "        def __init__(self,value):\n",
    "            self.data=value\n",
    "            self.next=None\n",
    "    head=node(10)\n",
    "    head.next=node(1)\n",
    "    head.next.next=node(2)\n",
    "    head.next.next.next=node(3)\n",
    "    head.next.next.next.next=node(4)\n",
    "\n",
    "    \n",
    "\n",
    "class node:\n",
    "    def __init__(self,value):\n",
    "        self.data=value\n",
    "        self.next=None\n",
    "head=node(1)\n",
    "head.next=node(2)\n",
    "head.next.next=node(3)\n",
    "head.next.next.next=node(4)\n",
    "\n",
    "print(\"header  node\",frinsert(10),head)\n",
    "print(\"node 1\",head,head.data)\n",
    "print(\"node 2\",head.next,head.next.data)\n",
    "print(\"node 3\",head.next.next,head.next.next.data)\n",
    "print(\"node 4\",head.next.next.next,head.next.next.next.data)\n",
    "\n",
    "\n"
   ]
  },
  {
   "cell_type": "code",
   "execution_count": null,
   "id": "fb364ff4-72ef-4048-ac98-46f900cc00ec",
   "metadata": {},
   "outputs": [],
   "source": []
  }
 ],
 "metadata": {
  "kernelspec": {
   "display_name": "Python 3 (ipykernel)",
   "language": "python",
   "name": "python3"
  },
  "language_info": {
   "codemirror_mode": {
    "name": "ipython",
    "version": 3
   },
   "file_extension": ".py",
   "mimetype": "text/x-python",
   "name": "python",
   "nbconvert_exporter": "python",
   "pygments_lexer": "ipython3",
   "version": "3.12.2"
  }
 },
 "nbformat": 4,
 "nbformat_minor": 5
}
