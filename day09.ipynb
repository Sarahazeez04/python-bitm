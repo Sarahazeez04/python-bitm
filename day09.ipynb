{
 "cells": [
  {
   "cell_type": "code",
   "execution_count": null,
   "id": "92f9c272-0297-4243-99d6-cd11ca0e634d",
   "metadata": {},
   "outputs": [],
   "source": [
    "stack=(input())\n",
    "e=input()\n",
    "s=e\n",
    "sent=stack+s\n",
    "print(sent)\n",
    "sent=sent[0:5]\n",
    "print(sent)"
   ]
  },
  {
   "cell_type": "code",
   "execution_count": null,
   "id": "64add71b-d5fa-460b-ad7c-62711c238f4b",
   "metadata": {},
   "outputs": [],
   "source": [
    "l=[]\n",
    "def add(e):\n",
    "    l.append(e)\n",
    "def dele():\n",
    "    l.pop()\n",
    "\n",
    "add(2) \n",
    "add(3)\n",
    "add(4)\n",
    "dele()\n",
    "print(l)"
   ]
  },
  {
   "cell_type": "code",
   "execution_count": null,
   "id": "be742a07-f172-444d-8045-5f0d90cfefac",
   "metadata": {},
   "outputs": [],
   "source": [
    "l=[]\n",
    "def add(e):\n",
    "    l.append(e)\n",
    "def dele():\n",
    "    l.pop(4)\n",
    "add(2)\n",
    "add(3)\n",
    "add(4)\n",
    "add(5)\n",
    "add(6)\n",
    "add(7)\n",
    "add(8)\n",
    "print(l)\n",
    "dele()\n",
    "print(l)"
   ]
  },
  {
   "cell_type": "code",
   "execution_count": null,
   "id": "ce2329fc-41f5-4a2b-8b31-61402382487d",
   "metadata": {},
   "outputs": [],
   "source": [
    "str=\"this is a string\"\n",
    "s=[]\n",
    "for e in str.split():\n",
    "    s.append(e)\n",
    "    \n",
    "while len(s)>0:\n",
    "    print(s.pop())"
   ]
  },
  {
   "cell_type": "code",
   "execution_count": null,
   "id": "3347a030-439a-4a0d-a3c2-09c1e551660c",
   "metadata": {},
   "outputs": [],
   "source": [
    "str=input()\n",
    "res=\" \"\n",
    "s=[]\n",
    "for e in str:\n",
    "    s.append(e)\n",
    "    if e.isalnum():\n",
    "        res+=e\n",
    "    elif e is=="
   ]
  },
  {
   "cell_type": "code",
   "execution_count": null,
   "id": "a98c8caf-47b2-4570-8f9e-0a09d14910ad",
   "metadata": {},
   "outputs": [],
   "source": [
    "exp=input()\n",
    "s=[]\n",
    "res=\" \"\n",
    "for e in exp:\n",
    "    if e.isalnum():\n",
    "        result+=e\n",
    "    elif e=='(':\n",
    "        s.append(e)\n",
    "    elif e==')':\n",
    "        while s[-1] != '(':\n",
    "            res+=s.pop()\n",
    "        s.pop()\n",
    "    else:\n",
    "        while s and (prec(e)<prec(s[-1]) or\n",
    "                    (prec(e)==prec(s[-1])and asoc(e)=='L')):\n",
    "            res+-s.pop()\n",
    "        s.append(e)\n",
    "while s:\n",
    "    res+=s.pop()\n",
    "\n",
    "print(res)"
   ]
  },
  {
   "cell_type": "code",
   "execution_count": null,
   "id": "204da0f0-6dd8-462c-a241-9f20b7d7c896",
   "metadata": {},
   "outputs": [],
   "source": [
    "food=[item for item in input().split()]\n",
    "s=[]\n",
    "for item in food:\n",
    "    if not s:\n",
    "        s.append(item)\n",
    "    elif s[-1]==item:\n",
    "        s.pop()\n",
    "    else:\n",
    "        s.append(item)\n",
    "print(len(s),s)\n",
    "                 "
   ]
  },
  {
   "cell_type": "code",
   "execution_count": null,
   "id": "c782a0ed-b524-48ed-a888-37b8349eb217",
   "metadata": {},
   "outputs": [],
   "source": [
    "str=input()\n",
    "s=[]\n",
    "for i in str:\n",
    "    print(s)\n",
    "    if i =='(' or i=='{' or i=='[':\n",
    "        s.append(i)\n",
    "    elif (i ==')' and s[-1]=='(') or (i=='}' and s[-1]=='{') or (i==']' and s[-1]=='['):\n",
    "        s.pop()\n",
    "    else:\n",
    "        continue\n",
    "        \n",
    "if not s:\n",
    "    print(\"valid\")\n",
    "else:\n",
    "    print(\"invalid\")"
   ]
  }
 ],
 "metadata": {
  "kernelspec": {
   "display_name": "Python 3 (ipykernel)",
   "language": "python",
   "name": "python3"
  },
  "language_info": {
   "codemirror_mode": {
    "name": "ipython",
    "version": 3
   },
   "file_extension": ".py",
   "mimetype": "text/x-python",
   "name": "python",
   "nbconvert_exporter": "python",
   "pygments_lexer": "ipython3",
   "version": "3.12.2"
  }
 },
 "nbformat": 4,
 "nbformat_minor": 5
}
