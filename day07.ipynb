{
 "cells": [
  {
   "cell_type": "code",
   "execution_count": null,
   "id": "97f45c41-7999-4707-8d7b-e84bbedd7024",
   "metadata": {},
   "outputs": [],
   "source": [
    "#sorting techniques"
   ]
  },
  {
   "cell_type": "code",
   "execution_count": 24,
   "id": "54a248d7-33e5-4671-9a41-3601b96598a7",
   "metadata": {},
   "outputs": [
    {
     "name": "stdin",
     "output_type": "stream",
     "text": [
      "enter the no: 3\n"
     ]
    },
    {
     "name": "stdout",
     "output_type": "stream",
     "text": [
      "12\n",
      "14\n",
      "15\n",
      "17\n",
      "16\n",
      "16\n",
      "13\n",
      "6\n"
     ]
    }
   ],
   "source": [
    "l=[1,4,7,3,5,9,2,5,6,7,3]\n",
    "a=int(input(\"enter the no:\"))\n",
    "max=0\n",
    "for i in range(0,len(l)-a-1):\n",
    "    x=l[i]+l[i+1]+l[i+2]\n",
    "    l[i]=l[i+1]\n",
    "    print(x)\n",
    "    if max<i:\n",
    "        max=i\n",
    "print(max)\n",
    "    \n",
    "\n"
   ]
  },
  {
   "cell_type": "code",
   "execution_count": 33,
   "id": "2c35af02-da54-4919-8043-e16f6973cd09",
   "metadata": {},
   "outputs": [
    {
     "name": "stdout",
     "output_type": "stream",
     "text": [
      "[-2, 1, 2, 3, 5, 6, 7, 8, 9, 27, 38]\n"
     ]
    }
   ],
   "source": [
    "l=[3,5,2,6,7,8,9,1,27,38,-2]#bubble sort\n",
    "for i in range(0,len(l)):\n",
    "    for j in range(i+1,len(l)):\n",
    "        if l[i]>l[j]:\n",
    "            l[i],l[j]=l[j],l[i]\n",
    "print(l)\n",
    "    "
   ]
  },
  {
   "cell_type": "code",
   "execution_count": 2,
   "id": "207c4519-c774-492e-91f3-200d3333005a",
   "metadata": {},
   "outputs": [
    {
     "name": "stdout",
     "output_type": "stream",
     "text": [
      "[1, 2, 3, 4, 7, 8]\n"
     ]
    }
   ],
   "source": [
    "arr=[3,7,8,2,4,1]#insertion sort\n",
    "for i in range(1,len(arr)):\n",
    "    temp=arr[i]\n",
    "    j=i-1\n",
    "    while j>=0 and temp<arr[j]:\n",
    "        arr[j+1]=arr[j]\n",
    "        j-=1  \n",
    "    arr[j+1]=temp\n",
    "print(arr)"
   ]
  },
  {
   "cell_type": "code",
   "execution_count": 57,
   "id": "72db3983-2f63-4b7d-b0bb-92ebf3433f64",
   "metadata": {},
   "outputs": [
    {
     "name": "stdout",
     "output_type": "stream",
     "text": [
      "[0, 1, 3, 5, 7, 9]\n"
     ]
    }
   ],
   "source": [
    "arr=[7,3,5,9,0,1]\n",
    "for i in range(0,len(arr)):\n",
    "    min=i\n",
    "    for j in range(i+1,len(arr)):\n",
    "        if arr[min]>arr[j]:\n",
    "            min=j\n",
    "    temp=arr[i]\n",
    "    arr[i]=arr[min]\n",
    "    arr[min]=temp\n",
    "print(arr)"
   ]
  },
  {
   "cell_type": "code",
   "execution_count": 17,
   "id": "0e253da5-abfd-494b-9dc5-95763e2594ad",
   "metadata": {},
   "outputs": [
    {
     "name": "stdout",
     "output_type": "stream",
     "text": [
      "[2, 3, 4, 0, 7]\n",
      "4\n"
     ]
    }
   ],
   "source": [
    "arr=[3,2,7,0,4]\n",
    "for j in range(0,len(arr)):\n",
    "    for i in range(j+1,len(arr)):\n",
    "        m=min(arr)\n",
    "        arr[0],arr[i]=arr[i],arr[0]\n",
    "print(arr)\n",
    "print(i)\n"
   ]
  },
  {
   "cell_type": "code",
   "execution_count": 7,
   "id": "fee1d909-0244-424d-9346-dd35c931bad9",
   "metadata": {},
   "outputs": [
    {
     "name": "stdout",
     "output_type": "stream",
     "text": [
      "[0, 2, 3, 5, 7, 8]\n"
     ]
    },
    {
     "name": "stdin",
     "output_type": "stream",
     "text": [
      " 2\n"
     ]
    },
    {
     "name": "stdout",
     "output_type": "stream",
     "text": [
      "element found at 1\n"
     ]
    }
   ],
   "source": [
    "l=[3,5,2,8,0,7]\n",
    "l.sort()\n",
    "print(l)\n",
    "low=0\n",
    "high=len(l)\n",
    "key=int(input())\n",
    "Flag=0\n",
    "while low<high:\n",
    "    mid=int((low+(high-low))/2)\n",
    "    if key==mid:\n",
    "        print(\"elemnt found at\",mid)\n",
    "    elif key>l[mid]:\n",
    "        low=mid+1\n",
    "    elif key<l[mid]:\n",
    "        high=mid-1\n",
    "    else:\n",
    "        Flag==1\n",
    "        break\n",
    "if Flag==0:\n",
    "    print(\"element found at\",mid)\n",
    "else:\n",
    "     print(\"not found\")\n",
    "    \n",
    "\n",
    "\n",
    "    \n",
    " \n"
   ]
  },
  {
   "cell_type": "code",
   "execution_count": null,
   "id": "ecb93bee-25a1-4157-8129-cd0f78aaa33b",
   "metadata": {},
   "outputs": [],
   "source": []
  }
 ],
 "metadata": {
  "kernelspec": {
   "display_name": "Python 3 (ipykernel)",
   "language": "python",
   "name": "python3"
  },
  "language_info": {
   "codemirror_mode": {
    "name": "ipython",
    "version": 3
   },
   "file_extension": ".py",
   "mimetype": "text/x-python",
   "name": "python",
   "nbconvert_exporter": "python",
   "pygments_lexer": "ipython3",
   "version": "3.12.2"
  }
 },
 "nbformat": 4,
 "nbformat_minor": 5
}
