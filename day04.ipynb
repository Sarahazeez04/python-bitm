{
 "cells": [
  {
   "cell_type": "code",
   "execution_count": null,
   "id": "dadb45f1-667c-4afa-94db-cfb8a7ad9e35",
   "metadata": {},
   "outputs": [],
   "source": [
    "import os\n",
    "\n",
    "if __name__=='__main__':\n",
    "    filename=\"example.txt\"\n",
    "    new_filename=\"new_example.txt\"\n",
    "    create_file(filename)\n",
    "    read_file(filename)\n",
    "    append_file(filename)\n",
    "    read_file(filename)\n",
    "    rename_file(filename,new_filename)\n",
    "    read_file(new_filename)\n",
    "    delete_file(new_filename)\n",
    "\n"
   ]
  },
  {
   "cell_type": "code",
   "execution_count": 23,
   "id": "3da0eabf-1006-494c-bd11-4d9c836d5502",
   "metadata": {},
   "outputs": [],
   "source": [
    "import os\n",
    "with open(\"baarah.txt\",'w') as a:\n",
    "    a.write(\"my name is sarah\\n\")\n",
    "    a.close()"
   ]
  },
  {
   "cell_type": "code",
   "execution_count": 9,
   "id": "ab4133f2-20e7-475c-acf4-7713222cdb11",
   "metadata": {},
   "outputs": [
    {
     "name": "stdout",
     "output_type": "stream",
     "text": [
      "my name is sarah\n",
      "i study in bitm\n"
     ]
    }
   ],
   "source": [
    "import os\n",
    "with open(\"sarah.txt\",'r') as f:\n",
    "    a=f.read()\n",
    "    print(a)\n",
    "    f.close()"
   ]
  },
  {
   "cell_type": "code",
   "execution_count": 19,
   "id": "f231a7da-b2f7-4806-bcd8-cdfbf079fe81",
   "metadata": {},
   "outputs": [],
   "source": [
    "import os\n",
    "with open(\"sarah.txt\",'a') as f:\n",
    "    f.write(\"i study in bitm\")\n",
    "    f.close()"
   ]
  },
  {
   "cell_type": "code",
   "execution_count": 22,
   "id": "474e612c-4cce-4ddd-a727-3a375f6b1e96",
   "metadata": {},
   "outputs": [],
   "source": [
    "import os\n",
    "os.rename(\"sarah.txt\",\"idk.txt\")\n",
    "f.close()"
   ]
  },
  {
   "cell_type": "code",
   "execution_count": 27,
   "id": "b99630f6-8234-498b-9931-22442dd0e6a4",
   "metadata": {},
   "outputs": [
    {
     "name": "stdin",
     "output_type": "stream",
     "text": [
      "enter temperature 100\n"
     ]
    },
    {
     "name": "stdout",
     "output_type": "stream",
     "text": [
      "212.0\n"
     ]
    }
   ],
   "source": [
    "\n",
    "temp=int(input(\"enter temperature\"))\n",
    "temp=temp*(9/5)+32\n",
    "print(temp)"
   ]
  },
  {
   "cell_type": "code",
   "execution_count": 3,
   "id": "7d141244-a54e-4ffe-8ef4-c0d30d9af2bb",
   "metadata": {},
   "outputs": [
    {
     "name": "stdin",
     "output_type": "stream",
     "text": [
      "enter fruit: mango\n",
      "enter fruit apple\n",
      "enter fruit banana\n",
      "enter fruit grapes\n",
      "enter the fruit you want to replace: apple\n",
      "enter the fruit to be inserted: kiwi\n"
     ]
    }
   ],
   "source": [
    "import os\n",
    "with open(\"fruits.txt\",'w') as f:\n",
    "    f.write(input(\"enter fruit:\")+\"\\n\")\n",
    "    f.write(input(\"enter fruit\")+\"\\n\")\n",
    "    f.write(input(\"enter fruit\")+\"\\n\")\n",
    "    f.write(input(\"enter fruit\")+\"\\n\")\n",
    "    f.close()\n",
    "with open(\"fruits.txt\",'r')as f:\n",
    "    a=f.read()\n",
    "    c=input(\"enter the fruit you want to replace:\")\n",
    "    d=input(\"enter the fruit to be inserted:\")\n",
    "    b=a.replace(c,d)\n",
    "with open(\"fruits.txt\",'w')as f:\n",
    "    f.write(b)\n",
    "          "
   ]
  },
  {
   "cell_type": "code",
   "execution_count": 1,
   "id": "8c7019f1-927c-44ef-af5a-55b9362d2dc1",
   "metadata": {},
   "outputs": [
    {
     "name": "stdout",
     "output_type": "stream",
     "text": [
      "The second largest element is: 4\n"
     ]
    }
   ],
   "source": [
    "my_list = [1, 2, 3, 4, 5]\n",
    "sorted_list = sorted(my_list, reverse=True)\n",
    "second_largest = sorted_list[1]\n",
    "print(\"The second largest element is:\", second_largest)"
   ]
  },
  {
   "cell_type": "code",
   "execution_count": 6,
   "id": "d2d5b473-5cfe-4282-bdc4-ad951aa8f02c",
   "metadata": {},
   "outputs": [
    {
     "name": "stdout",
     "output_type": "stream",
     "text": [
      "['haras', 'si', 'eman', 'ym']\n"
     ]
    }
   ],
   "source": [
    "sent=\"my name is sarah\"\n",
    "revsent=(sent[::-1].split())\n",
    "print(revsent)"
   ]
  },
  {
   "cell_type": "code",
   "execution_count": 13,
   "id": "5da0ac96-8522-4212-84a0-800a237d56fa",
   "metadata": {},
   "outputs": [
    {
     "name": "stdout",
     "output_type": "stream",
     "text": [
      "42\n"
     ]
    }
   ],
   "source": [
    "list=[1,2,3,4,5,6,7,8,9,10,11,12]\n",
    "temp=0\n",
    "for x in range(2,max(list)+1):\n",
    "    if x%2==0:\n",
    "        temp=temp+x\n",
    "print(temp)"
   ]
  },
  {
   "cell_type": "code",
   "execution_count": 17,
   "id": "b19bdc17-482c-4901-a45e-d5508419eae9",
   "metadata": {},
   "outputs": [
    {
     "name": "stdin",
     "output_type": "stream",
     "text": [
      " aeroplane\n"
     ]
    },
    {
     "name": "stdout",
     "output_type": "stream",
     "text": [
      "5\n"
     ]
    }
   ],
   "source": [
    "str=input()\n",
    "count=0\n",
    "for x in range(0,len(str)):\n",
    "    if str[x] in \"aeiou\":\n",
    "        count=count+1\n",
    "print(count)\n",
    "    "
   ]
  },
  {
   "cell_type": "code",
   "execution_count": null,
   "id": "b4e82542-85d1-40a7-ac48-12c413e5b056",
   "metadata": {},
   "outputs": [],
   "source": []
  }
 ],
 "metadata": {
  "kernelspec": {
   "display_name": "Python 3 (ipykernel)",
   "language": "python",
   "name": "python3"
  },
  "language_info": {
   "codemirror_mode": {
    "name": "ipython",
    "version": 3
   },
   "file_extension": ".py",
   "mimetype": "text/x-python",
   "name": "python",
   "nbconvert_exporter": "python",
   "pygments_lexer": "ipython3",
   "version": "3.12.2"
  }
 },
 "nbformat": 4,
 "nbformat_minor": 5
}
