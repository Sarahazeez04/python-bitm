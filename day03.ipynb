{
 "cells": [
  {
   "cell_type": "code",
   "execution_count": 22,
   "id": "69609c1c-1d70-4b14-b071-52203be528ab",
   "metadata": {},
   "outputs": [
    {
     "name": "stdin",
     "output_type": "stream",
     "text": [
      "enter index: 4\n"
     ]
    },
    {
     "name": "stdout",
     "output_type": "stream",
     "text": [
      "no error occured\n",
      "value is 5\n",
      "error handeled\n"
     ]
    }
   ],
   "source": [
    "a=[1,\"saarah\",3,4,5,6,7,8,9,10]\n",
    "index=int(input(\"enter index:\"))\n",
    "try:\n",
    "    a[index]    \n",
    "except:\n",
    "    print(\"index not available\")\n",
    "else:\n",
    "    print(\"no error occured\")\n",
    "    print(\"value is\",a[index])\n",
    "finally:\n",
    "    print(\"error handeled\")\n",
    "\n"
   ]
  },
  {
   "cell_type": "code",
   "execution_count": 30,
   "id": "15e10088-1a35-4201-bc08-7cf7b1d46180",
   "metadata": {},
   "outputs": [
    {
     "name": "stdout",
     "output_type": "stream",
     "text": [
      "unkniwn error\n",
      "code execution done\n"
     ]
    }
   ],
   "source": [
    "try:\n",
    "    a=input()\n",
    "    b=input()\n",
    "    c=int(a)/int(b)\n",
    "    x=\"hello\"/3\n",
    "except ValueError:\n",
    "    print(\"value unable tp convert\")\n",
    "except ZeroDivisionError:\n",
    "    print(\"cant divide by 0\")\n",
    "except:\n",
    "    print(\"unkniwn error\")\n",
    "else:\n",
    "    print(\"no error\")\n",
    "finally:\n",
    "    print(\"code execution done\")"
   ]
  },
  {
   "cell_type": "code",
   "execution_count": 120,
   "id": "81df1993-89e9-4662-a110-20fa294b8a84",
   "metadata": {},
   "outputs": [
    {
     "name": "stdout",
     "output_type": "stream",
     "text": [
      "Average grade: 32.4\n"
     ]
    }
   ],
   "source": [
    "grades={\n",
    "    \"xyz\":7.5 ,\n",
    "    \"yzx\": 9.0,\n",
    "    \"abc\": 7.9,\n",
    "    \"efg\": 8.0\n",
    "}\n",
    "average = 7.5+9.0+7.9+8.0\n",
    "if average is not None:\n",
    "    print(\"Average grade:\", average)\n",
    "else:\n",
    "    print(\"no grades\")"
   ]
  },
  {
   "cell_type": "code",
   "execution_count": 5,
   "id": "001217d3-7b43-4ea7-bb76-3bc70cc89be1",
   "metadata": {},
   "outputs": [
    {
     "name": "stdin",
     "output_type": "stream",
     "text": [
      "enter key: zoya\n"
     ]
    },
    {
     "name": "stdout",
     "output_type": "stream",
     "text": [
      "30\n",
      "avg is 25.0\n"
     ]
    }
   ],
   "source": [
    "dict={\"sarah\":10,\"rumaanna\":20,\"zoya\":30,\"sana\":40}\n",
    "key=input(\"enter key:\")\n",
    "try:\n",
    "    dict.get(key)\n",
    "except:\n",
    "    print(\"key not found\")\n",
    "else:\n",
    "    print(dict.get(key))\n",
    "    avg=(10+20+30+40)/4\n",
    "    print(\"avg is\",avg)"
   ]
  }
 ],
 "metadata": {
  "kernelspec": {
   "display_name": "Python 3 (ipykernel)",
   "language": "python",
   "name": "python3"
  },
  "language_info": {
   "codemirror_mode": {
    "name": "ipython",
    "version": 3
   },
   "file_extension": ".py",
   "mimetype": "text/x-python",
   "name": "python",
   "nbconvert_exporter": "python",
   "pygments_lexer": "ipython3",
   "version": "3.12.2"
  }
 },
 "nbformat": 4,
 "nbformat_minor": 5
}
