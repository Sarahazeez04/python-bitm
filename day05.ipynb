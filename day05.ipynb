{
 "cells": [
  {
   "cell_type": "code",
   "execution_count": 3,
   "id": "4342c209-cda0-4f93-8bc0-80ce6afb036f",
   "metadata": {},
   "outputs": [
    {
     "name": "stdout",
     "output_type": "stream",
     "text": [
      "file doesnt exist\n"
     ]
    }
   ],
   "source": [
    "import os\n",
    "try:\n",
    "    with open(\"except.txt\",'r') as f:\n",
    "        a=f.read()\n",
    "except FileNotFoundError:\n",
    "    print(\"file doesnt exist\")\n",
    "    "
   ]
  },
  {
   "cell_type": "code",
   "execution_count": 33,
   "id": "08297954-2c2d-41d2-ad78-13ac9eae6821",
   "metadata": {},
   "outputs": [
    {
     "name": "stdout",
     "output_type": "stream",
     "text": [
      "the laptop has processor,ram,value\n",
      "processor: i3\n",
      "processor: 8\n",
      "processor: 512\n"
     ]
    }
   ],
   "source": [
    "class laptop:\n",
    "    def __init__(self,value,value1,value2,):\n",
    "        self.processor=value\n",
    "        self.ram=value1\n",
    "        self.storage=value2\n",
    "    def config(self):\n",
    "        print(\"the laptop has processor,ram,value\")\n",
    "        print(\"processor:\",self.processor)\n",
    "        print(\"ram:\",self.ram)\n",
    "        print(\"storage:\",self.storage)\n",
    "\n",
    "if __name__==\"__main__\":\n",
    "    dell=laptop(\"i3\",8,512)\n",
    "    \n",
    "    dell.config()\n",
    "\n"
   ]
  },
  {
   "cell_type": "code",
   "execution_count": 43,
   "id": "41a3b3ea-6718-445b-9ac1-152f290b072a",
   "metadata": {},
   "outputs": [
    {
     "name": "stdout",
     "output_type": "stream",
     "text": [
      "the marks of a student are\n",
      "\n",
      "eng 20 \n",
      "\n",
      "maths 30 \n",
      "\n",
      "python 40 \n",
      "\n",
      "dsa 50 \n",
      "\n",
      "oops 60 \n",
      "\n",
      "average is:\n",
      "40.0\n",
      "the marks of a student are\n",
      "\n",
      "eng 100 \n",
      "\n",
      "maths 100 \n",
      "\n",
      "python 100 \n",
      "\n",
      "dsa 100 \n",
      "\n",
      "oops 100 \n",
      "\n",
      "average is:\n",
      "100.0\n"
     ]
    }
   ],
   "source": [
    "class student:\n",
    "    def __init__(self,mark,mark1,mark2,mark3,mark4,):\n",
    "        self.english=mark\n",
    "        self.maths=mark1\n",
    "        self.python=mark2\n",
    "        self.dsa=mark3\n",
    "        self.oops=mark4\n",
    "    def config(self):\n",
    "        print(\"the marks of a student are\\n\")\n",
    "        print(\"eng\",self.english,'\\n')\n",
    "        print(\"maths\",self.maths,'\\n')\n",
    "        print(\"python\",self.python,'\\n')\n",
    "        print(\"dsa\",self.dsa,'\\n')\n",
    "        print(\"oops\",self.oops,'\\n')\n",
    "    def avg(self):\n",
    "        avg=(self.english+self.maths+self.python+self.dsa+self.oops)/5\n",
    "        print(\"average is:\")\n",
    "        print(avg)\n",
    "if __name__==\"__main__\":\n",
    "    sarah=student(20,30,40,50,60)\n",
    "    sarah.config()\n",
    "    sarah.avg()\n",
    "    rumaana=student(100,100,100,100,100)\n",
    "    rumaana.config()\n",
    "    rumaana.avg()\n",
    "        \n",
    "    "
   ]
  },
  {
   "cell_type": "code",
   "execution_count": null,
   "id": "288e451f-4697-4668-98f1-9af0c8f1f3f3",
   "metadata": {},
   "outputs": [],
   "source": [
    "class c:\n",
    "    def __init__(self):\n",
    "        print(\"constr of class c\")\n",
    "    def __init__(self,a):\n",
    "        print(\"contructor of class c with\",a)\n",
    "    def __init__(self,a,b):\n",
    "        print(\"constructor of class c with\",a,b)\n",
    "ob=c()\n",
    "ob=c(1)\n",
    "ob=c(1,2)"
   ]
  },
  {
   "cell_type": "code",
   "execution_count": 73,
   "id": "77e6bdbc-6639-4713-9f8c-a65aa7751c1d",
   "metadata": {},
   "outputs": [
    {
     "name": "stdout",
     "output_type": "stream",
     "text": [
      "basic laptop has: processor: i5 \n",
      " ram 8 \n",
      " storage: 16\n",
      "battery backup is: 270\n"
     ]
    }
   ],
   "source": [
    "class laptop:\n",
    "    def __init__(self,a,b,c):\n",
    "        self.processor=a\n",
    "        self.ram=b\n",
    "        self.storage=c\n",
    "    def show(self):\n",
    "        print(\"basic laptop has:\",\"processor:\",self.processor,'\\n',\"ram\",self.ram,'\\n',\"storage:\",self.storage)\n",
    "class profLaptop(laptop):\n",
    "    def __init__(self,a,b,c,d):\n",
    "        self.batteryBackup=d\n",
    "        super().__init__(a,b,c)\n",
    "    def show(self):\n",
    "        super().show()\n",
    "        print(\"battery backup is:\",self.batteryBackup)\n",
    "\n",
    "class gamingLaptop(laptop):\n",
    "    def __init__(self,a,b,c,e):\n",
    "        self.graphicCard=e\n",
    "        super().__init__(a,b,c)\n",
    "    def show(self):\n",
    "        super().show()\n",
    "        print(\"graphics is:\",self.graphicCard)\n",
    "        \n",
    "\n",
    "ob1=gamingLaptop(\"i5\",8,16,5000)\n",
    "ob2=profLaptop(\"i5\",8,16,270)\n",
    "ob2.show()\n",
    "\n",
    "\n",
    "    "
   ]
  },
  {
   "cell_type": "code",
   "execution_count": 91,
   "id": "5ea87f99-029b-4374-891b-13826cd51120",
   "metadata": {},
   "outputs": [
    {
     "name": "stdout",
     "output_type": "stream",
     "text": [
      "the price of the general ticket to for the given distance is: 1050\n",
      "the price of the sleeper class ticket to for the given distance is: 2050\n",
      "the price of the AC ticket to for the given distance is: 3050\n",
      "the price of the first class ticket to for the given distance is: 3550\n"
     ]
    }
   ],
   "source": [
    "class ticket:\n",
    "    def __init__(self,d):\n",
    "        self.distance=d\n",
    "    def show(self):\n",
    "        x=((self.distance)*2)+50\n",
    "        return x\n",
    "        \n",
    "class general(ticket):\n",
    "    def __init__(self,d):\n",
    "        super().__init__(d)\n",
    "    def show(self):\n",
    "        Y=super().show()\n",
    "        print(\"the price of the general ticket to for the given distance is:\",Y) \n",
    "        \n",
    "\n",
    "class sc(ticket):\n",
    "    def __init__(self,d):\n",
    "        super().__init__(d)\n",
    "    def show(self):\n",
    "        Y=(super().show())+(2*self.distance)\n",
    "        print(\"the price of the sleeper class ticket to for the given distance is:\",Y) \n",
    "       \n",
    "\n",
    "class ac(ticket):\n",
    "    def __init__(self,d):\n",
    "        super().__init__(d)\n",
    "    def show(self):\n",
    "        Y=(super().show())+(4*self.distance)\n",
    "        print(\"the price of the AC ticket to for the given distance is:\",Y) \n",
    "      \n",
    "\n",
    "class fc(ticket):\n",
    "    def __init__(self,d):\n",
    "        super().__init__(d)\n",
    "    def show(self):\n",
    "        Y=(super().show())+(5*self.distance)\n",
    "        print(\"the price of the first class ticket to for the given distance is:\",Y) \n",
    "        \n",
    "        \n",
    "        \n",
    "   \n",
    "\n",
    "ob1=general(500)\n",
    "ob1.show()\n",
    "ob2=sc(500)\n",
    "ob2.show()\n",
    "ob3=ac(500)\n",
    "ob3.show()\n",
    "ob4=fc(500)\n",
    "ob4.show()\n",
    "\n",
    "   \n",
    "        \n",
    "    "
   ]
  },
  {
   "cell_type": "code",
   "execution_count": null,
   "id": "900a9100-f523-4e14-8e10-a4bc47538749",
   "metadata": {},
   "outputs": [],
   "source": []
  }
 ],
 "metadata": {
  "kernelspec": {
   "display_name": "Python 3 (ipykernel)",
   "language": "python",
   "name": "python3"
  },
  "language_info": {
   "codemirror_mode": {
    "name": "ipython",
    "version": 3
   },
   "file_extension": ".py",
   "mimetype": "text/x-python",
   "name": "python",
   "nbconvert_exporter": "python",
   "pygments_lexer": "ipython3",
   "version": "3.12.2"
  }
 },
 "nbformat": 4,
 "nbformat_minor": 5
}
