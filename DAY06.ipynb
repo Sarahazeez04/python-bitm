{
 "cells": [
  {
   "cell_type": "code",
   "execution_count": 7,
   "id": "986191c8-45ed-4073-9367-9390e2e74abb",
   "metadata": {},
   "outputs": [
    {
     "name": "stdout",
     "output_type": "stream",
     "text": [
      "reg plate num: 7030 1020 4040 \n",
      " engine cc: 520cc \n",
      " price: 750000 \n",
      " colour: black\n",
      "type of car: SUV \n",
      " no of passengers 8 \n",
      " speed of the car: 100km/hr\n",
      "reg plate num: 1020 \n",
      " engine cc: 1000cc \n",
      " price: 3000000 \n",
      " colour: brown\n",
      "no of axle: 4 \n",
      " load capacity 500kg \n",
      "\n"
     ]
    }
   ],
   "source": [
    "class vehicle:\n",
    "    def __init__(self,a,b,c,d):\n",
    "        self.regPlate=a\n",
    "        self.engine=b\n",
    "        self.price=c\n",
    "        self.colour=d\n",
    "    def show(self):\n",
    "        print(\"reg plate num:\",self.regPlate,'\\n',\"engine cc:\",self.engine,'\\n',\"price:\",self.price,'\\n',\"colour:\",self.colour)\n",
    "                  \n",
    "class car(vehicle):\n",
    "    def __init__(self,a,b,c,d,e,f,g):\n",
    "        super().__init__(a,b,c,d)\n",
    "        self.type=e\n",
    "        self.passengers=f\n",
    "        self.speed=g\n",
    "    def show(self):\n",
    "        super().show()\n",
    "        print(\"type of car:\",self.type,'\\n',\"no of passengers\",self.passengers,'\\n',\"speed of the car:\",self.speed)\n",
    "\n",
    "class truck(vehicle):\n",
    "    def __init__(self,a,b,c,d,e,f):\n",
    "        super().__init__(a,b,c,d)\n",
    "        self.axle=e\n",
    "        self.loadCapacity=f\n",
    "    def show(self):\n",
    "        super().show()\n",
    "        print(\"no of axle:\",self.axle,'\\n',\"load capacity\",self.loadCapacity,'\\n')\n",
    "\n",
    "ob1=car(\"7030 1020 4040\",\"520cc\",750000,\"black\",\"SUV\",8,\"100km/hr\")\n",
    "ob1.show()\n",
    "\n",
    "ob2=truck(1020,\"1000cc\",3000000,\"brown\",4,\"500kg\")\n",
    "ob2.show()\n",
    "    \n",
    "        "
   ]
  },
  {
   "cell_type": "code",
   "execution_count": 14,
   "id": "51ae86d4-8139-4256-968c-634ef5b06c85",
   "metadata": {},
   "outputs": [
    {
     "name": "stdout",
     "output_type": "stream",
     "text": [
      "employee id: 104 \n",
      " employeee name: sarah \n",
      " eSalary 50000\n",
      "type of work: personel assitant \n",
      " area of work: office \n",
      "\n",
      "employee id: 100 \n",
      " employeee name: sarah \n",
      " eSalary 150000\n",
      "module: frontend \n",
      " tech: HTML,pyt \n",
      " experience: 10years \n",
      "\n",
      "employee id: 100 \n",
      " employeee name: sarah \n",
      " eSalary 400000\n",
      "type of project: AI development \n",
      " client name reliance ltd \n",
      "\n"
     ]
    }
   ],
   "source": [
    "class employee:\n",
    "    def __init__(self,a,b,c):\n",
    "        self.eID=a\n",
    "        self.eName=b\n",
    "        self.eSalary=c\n",
    "    def show(self):\n",
    "        print(\"employee id:\",self.eID,'\\n',\"employeee name:\",self.eName,'\\n',\"eSalary\",self.eSalary,)\n",
    "\n",
    "class staff(employee):\n",
    "    def __init__(self,a,b,c,e,f):\n",
    "        super().__init__(a,b,c)\n",
    "        self.workType=e\n",
    "        self.workArea=f\n",
    "    def show(self):\n",
    "        super().show()\n",
    "        print(\"type of work:\",self.workType,'\\n',\"area of work:\",self.workArea,'\\n')\n",
    "\n",
    "class developer(employee):\n",
    "    def __init__(self,a,b,c,e,f,g):\n",
    "        super().__init__(a,b,c)\n",
    "        self.module=e\n",
    "        self.tech=f\n",
    "        self.experience=g\n",
    "    def show(self):\n",
    "        super().show()\n",
    "        print(\"module:\",self.module,'\\n',\"tech:\",self.tech,'\\n',\"experience:\",self.experience,'\\n')\n",
    "\n",
    "class manager(employee): \n",
    "    def __init__(self,a,b,c,e,f):\n",
    "        super().__init__(a,b,c)\n",
    "        self.project=e\n",
    "        self.clientName=f\n",
    "    def show(self):\n",
    "        super().show()\n",
    "        print(\"type of project:\",self.project,'\\n',\"client name\",self.clientName,'\\n')\n",
    "\n",
    "ob1=staff(104,\"sarah\",50000,\"personel assitant\",\"office\")\n",
    "ob1.show()\n",
    "\n",
    "ob2=developer(100,\"sarah\",150000,\"frontend\",\"HTML,pyt\",\"10years\")\n",
    "ob2.show()\n",
    "\n",
    "ob3=manager(100,\"sarah\",400000,\"AI development\",\"reliance ltd\")\n",
    "ob3.show()\n",
    "\n",
    "\n",
    "                  \n",
    "    "
   ]
  },
  {
   "cell_type": "code",
   "execution_count": 44,
   "id": "20c546ad-c60f-4b1c-b315-9082d2d23af2",
   "metadata": {},
   "outputs": [
    {
     "name": "stdout",
     "output_type": "stream",
     "text": [
      "\n",
      "* \n",
      "* * \n",
      "* * * \n",
      "* * * * \n"
     ]
    }
   ],
   "source": [
    "for y in range(0,5):\n",
    "    for x in range(0,y):\n",
    "        print(\"*\",end=\" \")\n",
    "    print()\n",
    "   "
   ]
  },
  {
   "cell_type": "code",
   "execution_count": 85,
   "id": "b9e9716b-5986-4c9f-ab5d-6641826afb4d",
   "metadata": {},
   "outputs": [
    {
     "name": "stdout",
     "output_type": "stream",
     "text": [
      "\n",
      "0 \n",
      "0 0 \n",
      "0 0 0 \n",
      "0 0 0 0 \n",
      "0 0 0 0 0 \n",
      "0 0 0 0 0 0 \n"
     ]
    }
   ],
   "source": [
    "i=0\n",
    "for x in range(0,7):\n",
    "    for y in range(0,x):\n",
    "        print(i,end=\" \")\n",
    "        i=2*i\n",
    "    print()"
   ]
  },
  {
   "cell_type": "code",
   "execution_count": 50,
   "id": "672cc0ee-4579-48ae-91d8-6cda70f48fab",
   "metadata": {},
   "outputs": [
    {
     "name": "stdout",
     "output_type": "stream",
     "text": [
      "* * * * * * * \n",
      "* * * * * * \n",
      "* * * * * \n",
      "* * * * \n",
      "* * * \n",
      "* * \n",
      "* \n"
     ]
    }
   ],
   "source": [
    "for i in range(0,7):\n",
    "    for j in range(0,7-i):\n",
    "        print(\"*\",end=\" \")\n",
    "    print()"
   ]
  },
  {
   "cell_type": "code",
   "execution_count": 61,
   "id": "124634ed-b7e6-41ac-92e7-21ad2de16683",
   "metadata": {},
   "outputs": [
    {
     "name": "stdout",
     "output_type": "stream",
     "text": [
      "* \n",
      "* * \n",
      "* * * \n",
      "* * * * \n",
      "* * * * * \n"
     ]
    }
   ],
   "source": [
    "for x in range(0,5):\n",
    "    for y in range(0,x+1):\n",
    "        print(\"*\",end=\" \")\n",
    "    print()\n",
    "        "
   ]
  },
  {
   "cell_type": "code",
   "execution_count": 75,
   "id": "719e32fd-37ac-49db-b762-cf78442dd9d5",
   "metadata": {},
   "outputs": [
    {
     "name": "stdout",
     "output_type": "stream",
     "text": [
      "1 0 \n",
      "1 0 \n",
      "1 0 \n",
      "1 0 \n",
      "1 0 \n"
     ]
    }
   ],
   "source": [
    "for i in range(0,5):\n",
    "        print(\"1\",end=\" \")\n",
    "        for j in range(x,x+1):\n",
    "            print(\"0\",end=\" \")\n",
    "        print()"
   ]
  },
  {
   "cell_type": "code",
   "execution_count": 93,
   "id": "332630de-8a73-4497-a515-ce8273cf9b82",
   "metadata": {},
   "outputs": [
    {
     "name": "stdout",
     "output_type": "stream",
     "text": [
      "* * * * * \n",
      "*       * \n",
      "*       * \n",
      "*       * \n",
      "* * * * * \n"
     ]
    }
   ],
   "source": [
    "for i in range(0,5):\n",
    "    for j in range(0,5):\n",
    "        if i==(5-1) or j==(5-1) or i==0 or j==0:\n",
    "            print(\"*\",end=\" \")\n",
    "        else:\n",
    "            print(\" \",end=\" \")\n",
    "    print()"
   ]
  },
  {
   "cell_type": "code",
   "execution_count": 87,
   "id": "b0beeae7-c59b-4571-a68c-bf082c38aaf9",
   "metadata": {},
   "outputs": [
    {
     "name": "stdout",
     "output_type": "stream",
     "text": [
      "0 \n",
      "1 1 \n",
      "2 2 2 \n"
     ]
    }
   ],
   "source": [
    "for i in range(0,3):\n",
    "    for j in range(0,i+1):\n",
    "        print(i,end=\" \")\n",
    "    print()"
   ]
  },
  {
   "cell_type": "code",
   "execution_count": 97,
   "id": "70ca966d-f87b-4def-ad1f-101ae31ff4e0",
   "metadata": {},
   "outputs": [],
   "source": [
    "for x in range(0,5):\n",
    "    for y in range(0,5):\n",
    "        if x==2 or x==3 or x==4 or x===5:\n",
    "            print(\" \",end=\" \")\n",
    "        wa\n",
    "        "
   ]
  },
  {
   "cell_type": "code",
   "execution_count": 103,
   "id": "557790f1-f96c-4756-85fa-31861568f07c",
   "metadata": {},
   "outputs": [
    {
     "name": "stdout",
     "output_type": "stream",
     "text": [
      "# # # # # \n",
      "# # # # # \n",
      "# # # # # \n"
     ]
    }
   ],
   "source": [
    "for i in range(3):\n",
    "    for j in range(5):\n",
    "        print(\"#\",end=\" \")\n",
    "    print()"
   ]
  },
  {
   "cell_type": "code",
   "execution_count": 109,
   "id": "df77fcee-08c8-416c-bb5f-a77f8ef7b1a0",
   "metadata": {},
   "outputs": [
    {
     "name": "stdout",
     "output_type": "stream",
     "text": [
      "* * * \n",
      "* * * \n",
      "* * * \n",
      "* * * \n"
     ]
    }
   ],
   "source": [
    "for i in range(4):\n",
    "    for j in range(1,4):\n",
    "        print(\"*\",end=\" \")\n",
    "    print()"
   ]
  },
  {
   "cell_type": "code",
   "execution_count": 108,
   "id": "71f96b13-f32c-4885-ba4c-feb51e75a1af",
   "metadata": {},
   "outputs": [
    {
     "name": "stdout",
     "output_type": "stream",
     "text": [
      "1 2 3 4 \n",
      "1 2 3 4 \n",
      "1 2 3 4 \n",
      "1 2 3 4 \n"
     ]
    }
   ],
   "source": [
    "for i in range(1,5):\n",
    "    for j in range(1,5):\n",
    "        print(j,end=\" \")\n",
    "    print()"
   ]
  },
  {
   "cell_type": "code",
   "execution_count": 113,
   "id": "7d4924f9-02e4-4151-8145-4a8de9e69085",
   "metadata": {},
   "outputs": [
    {
     "name": "stdout",
     "output_type": "stream",
     "text": [
      "* * * * * * \n",
      "* * * * * \n",
      "* * * * \n",
      "* * * \n"
     ]
    }
   ],
   "source": [
    "for i in range(4):\n",
    "    for j in range(0,.\n",
    "                   075-i+1):\n",
    "        print(\"*\",end=\" \")\n",
    "    print()"
   ]
  },
  {
   "cell_type": "code",
   "execution_count": null,
   "id": "d254e666-6197-4028-98ee-cec57e752f1e",
   "metadata": {},
   "outputs": [],
   "source": []
  }
 ],
 "metadata": {
  "kernelspec": {
   "display_name": "Python 3 (ipykernel)",
   "language": "python",
   "name": "python3"
  },
  "language_info": {
   "codemirror_mode": {
    "name": "ipython",
    "version": 3
   },
   "file_extension": ".py",
   "mimetype": "text/x-python",
   "name": "python",
   "nbconvert_exporter": "python",
   "pygments_lexer": "ipython3",
   "version": "3.12.2"
  }
 },
 "nbformat": 4,
 "nbformat_minor": 5
}
